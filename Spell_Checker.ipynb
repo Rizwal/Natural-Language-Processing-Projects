{
 "cells": [
  {
   "cell_type": "code",
   "execution_count": 1,
   "id": "6a53b929",
   "metadata": {},
   "outputs": [],
   "source": [
    "import re\n",
    "import pandas as pd\n",
    "from tqdm import tqdm"
   ]
  },
  {
   "cell_type": "markdown",
   "id": "4eb88f69",
   "metadata": {},
   "source": [
    "# Finding the unique words"
   ]
  },
  {
   "cell_type": "code",
   "execution_count": 2,
   "id": "ae58ad55",
   "metadata": {},
   "outputs": [
    {
     "name": "stdout",
     "output_type": "stream",
     "text": [
      "Total Words: 106076\n",
      "Unique Words: 8496\n"
     ]
    }
   ],
   "source": [
    "with open('bigdata.txt','r') as fd:\n",
    "    lines=fd.readlines()\n",
    "    words=[]\n",
    "    for line in lines:\n",
    "        words+=re.findall('\\w+',line)\n",
    "    \n",
    "    \n",
    "print(\"Total Words:\",len(words))\n",
    "uniq=set(words)\n",
    "print(\"Unique Words:\",len(uniq))"
   ]
  },
  {
   "cell_type": "markdown",
   "id": "0951f992",
   "metadata": {},
   "source": [
    "# Finding Probability distribution"
   ]
  },
  {
   "cell_type": "code",
   "execution_count": 3,
   "id": "94e6debe",
   "metadata": {},
   "outputs": [
    {
     "data": {
      "text/plain": [
       "344"
      ]
     },
     "execution_count": 3,
     "metadata": {},
     "output_type": "execute_result"
    }
   ],
   "source": [
    "words.count('The')"
   ]
  },
  {
   "cell_type": "code",
   "execution_count": 4,
   "id": "369b8caf",
   "metadata": {},
   "outputs": [
    {
     "data": {
      "text/plain": [
       "5270"
      ]
     },
     "execution_count": 4,
     "metadata": {},
     "output_type": "execute_result"
    }
   ],
   "source": [
    "words.count('the')"
   ]
  },
  {
   "cell_type": "code",
   "execution_count": 5,
   "id": "dceb0398",
   "metadata": {},
   "outputs": [
    {
     "name": "stderr",
     "output_type": "stream",
     "text": [
      "100%|█████████████████████████████████████████████████████████████████████████████| 8496/8496 [00:13<00:00, 634.56it/s]\n"
     ]
    }
   ],
   "source": [
    "word_prob={}\n",
    "\n",
    "for word in tqdm(uniq):\n",
    "    word_prob[word]=float(words.count(word)/len(words))"
   ]
  },
  {
   "cell_type": "code",
   "execution_count": 6,
   "id": "506639c2",
   "metadata": {},
   "outputs": [
    {
     "data": {
      "text/plain": [
       "8496"
      ]
     },
     "execution_count": 6,
     "metadata": {},
     "output_type": "execute_result"
    }
   ],
   "source": [
    "len(word_prob)"
   ]
  },
  {
   "cell_type": "code",
   "execution_count": 7,
   "id": "cac1b2ac",
   "metadata": {},
   "outputs": [
    {
     "data": {
      "text/plain": [
       "0.04968136053395678"
      ]
     },
     "execution_count": 7,
     "metadata": {},
     "output_type": "execute_result"
    }
   ],
   "source": [
    "word_prob['the']"
   ]
  },
  {
   "cell_type": "code",
   "execution_count": 8,
   "id": "b9cf9a4b",
   "metadata": {},
   "outputs": [
    {
     "data": {
      "text/plain": [
       "0.0009050115011878276"
      ]
     },
     "execution_count": 8,
     "metadata": {},
     "output_type": "execute_result"
    }
   ],
   "source": [
    " word_prob['Sherlock']"
   ]
  },
  {
   "cell_type": "markdown",
   "id": "96ed6180",
   "metadata": {},
   "source": [
    "# Text Preprocessing"
   ]
  },
  {
   "cell_type": "markdown",
   "id": "b0e91249",
   "metadata": {},
   "source": [
    "## 1.Splitting"
   ]
  },
  {
   "cell_type": "code",
   "execution_count": 9,
   "id": "f0aaff41",
   "metadata": {},
   "outputs": [
    {
     "data": {
      "text/plain": [
       "[('', 'rizwal'),\n",
       " ('r', 'izwal'),\n",
       " ('ri', 'zwal'),\n",
       " ('riz', 'wal'),\n",
       " ('rizw', 'al'),\n",
       " ('rizwa', 'l'),\n",
       " ('rizwal', '')]"
      ]
     },
     "execution_count": 9,
     "metadata": {},
     "output_type": "execute_result"
    }
   ],
   "source": [
    "def split(word):\n",
    "    parts=[]\n",
    "    for i in range(len(word)+1):\n",
    "        parts+=[(word[:i],word[i:])]\n",
    "    return parts\n",
    "\n",
    "split('rizwal')"
   ]
  },
  {
   "cell_type": "markdown",
   "id": "823e38e9",
   "metadata": {},
   "source": [
    "## 2.Deleting"
   ]
  },
  {
   "cell_type": "code",
   "execution_count": 10,
   "id": "dbf748cc",
   "metadata": {},
   "outputs": [
    {
     "data": {
      "text/plain": [
       "['izewal', 'rzewal', 'riewal', 'rizwal', 'rizeal', 'rizewl', 'rizewa']"
      ]
     },
     "execution_count": 10,
     "metadata": {},
     "output_type": "execute_result"
    }
   ],
   "source": [
    "def delete(word):\n",
    "    newwords=[]\n",
    "    for i in range(len(word)):\n",
    "        newwords+=[(word[:i]+word[i+1:])]\n",
    "    return newwords\n",
    "\n",
    "delete('rizewal')"
   ]
  },
  {
   "cell_type": "markdown",
   "id": "9ccebf33",
   "metadata": {},
   "source": [
    "## 3.Swapping"
   ]
  },
  {
   "cell_type": "code",
   "execution_count": 11,
   "id": "d23c5094",
   "metadata": {},
   "outputs": [
    {
     "data": {
      "text/plain": [
       "['irzwal', 'rziwal', 'riwzal', 'rizawl', 'rizwla']"
      ]
     },
     "execution_count": 11,
     "metadata": {},
     "output_type": "execute_result"
    }
   ],
   "source": [
    "def swap(word):\n",
    "    \n",
    "    output=[]\n",
    "    for l,r in split(word):\n",
    "        if(len(r)>1):\n",
    "            output.append(l+r[1]+r[0]+r[2:])\n",
    "    return output\n",
    "swap('rizwal')"
   ]
  },
  {
   "cell_type": "markdown",
   "id": "26374d97",
   "metadata": {},
   "source": [
    "## 4.Replacing"
   ]
  },
  {
   "cell_type": "code",
   "execution_count": 12,
   "id": "790656a7",
   "metadata": {},
   "outputs": [
    {
     "data": {
      "text/plain": [
       "['aave',\n",
       " 'bave',\n",
       " 'cave',\n",
       " 'dave',\n",
       " 'eave',\n",
       " 'fave',\n",
       " 'gave',\n",
       " 'have',\n",
       " 'iave',\n",
       " 'jave',\n",
       " 'kave',\n",
       " 'lave',\n",
       " 'mave',\n",
       " 'nave',\n",
       " 'oave',\n",
       " 'pave',\n",
       " 'qave',\n",
       " 'rave',\n",
       " 'save',\n",
       " 'tave',\n",
       " 'uave',\n",
       " 'vave',\n",
       " 'wave',\n",
       " 'xave',\n",
       " 'yave',\n",
       " 'zave',\n",
       " 'lave',\n",
       " 'lbve',\n",
       " 'lcve',\n",
       " 'ldve',\n",
       " 'leve',\n",
       " 'lfve',\n",
       " 'lgve',\n",
       " 'lhve',\n",
       " 'live',\n",
       " 'ljve',\n",
       " 'lkve',\n",
       " 'llve',\n",
       " 'lmve',\n",
       " 'lnve',\n",
       " 'love',\n",
       " 'lpve',\n",
       " 'lqve',\n",
       " 'lrve',\n",
       " 'lsve',\n",
       " 'ltve',\n",
       " 'luve',\n",
       " 'lvve',\n",
       " 'lwve',\n",
       " 'lxve',\n",
       " 'lyve',\n",
       " 'lzve',\n",
       " 'laae',\n",
       " 'labe',\n",
       " 'lace',\n",
       " 'lade',\n",
       " 'laee',\n",
       " 'lafe',\n",
       " 'lage',\n",
       " 'lahe',\n",
       " 'laie',\n",
       " 'laje',\n",
       " 'lake',\n",
       " 'lale',\n",
       " 'lame',\n",
       " 'lane',\n",
       " 'laoe',\n",
       " 'lape',\n",
       " 'laqe',\n",
       " 'lare',\n",
       " 'lase',\n",
       " 'late',\n",
       " 'laue',\n",
       " 'lave',\n",
       " 'lawe',\n",
       " 'laxe',\n",
       " 'laye',\n",
       " 'laze',\n",
       " 'lava',\n",
       " 'lavb',\n",
       " 'lavc',\n",
       " 'lavd',\n",
       " 'lave',\n",
       " 'lavf',\n",
       " 'lavg',\n",
       " 'lavh',\n",
       " 'lavi',\n",
       " 'lavj',\n",
       " 'lavk',\n",
       " 'lavl',\n",
       " 'lavm',\n",
       " 'lavn',\n",
       " 'lavo',\n",
       " 'lavp',\n",
       " 'lavq',\n",
       " 'lavr',\n",
       " 'lavs',\n",
       " 'lavt',\n",
       " 'lavu',\n",
       " 'lavv',\n",
       " 'lavw',\n",
       " 'lavx',\n",
       " 'lavy',\n",
       " 'lavz']"
      ]
     },
     "execution_count": 12,
     "metadata": {},
     "output_type": "execute_result"
    }
   ],
   "source": [
    "\n",
    "def replace(word):\n",
    "    ab='abcdefghijklmnopqrstuvwxyz'\n",
    "    replaced=[]\n",
    "    for i in range(len(word)):\n",
    "        for j in range(len(ab)):\n",
    "            w=word\n",
    "            w=w.replace(w[i],ab[j])\n",
    "            replaced+=[w]\n",
    "    return replaced\n",
    "\n",
    "replace('lave')"
   ]
  },
  {
   "cell_type": "markdown",
   "id": "77d12341",
   "metadata": {},
   "source": [
    "## 5.Inserting"
   ]
  },
  {
   "cell_type": "code",
   "execution_count": 13,
   "id": "eef0d5b6",
   "metadata": {},
   "outputs": [
    {
     "data": {
      "text/plain": [
       "['aove',\n",
       " 'bove',\n",
       " 'cove',\n",
       " 'dove',\n",
       " 'eove',\n",
       " 'fove',\n",
       " 'gove',\n",
       " 'hove',\n",
       " 'iove',\n",
       " 'jove',\n",
       " 'kove',\n",
       " 'love',\n",
       " 'move',\n",
       " 'nove',\n",
       " 'oove',\n",
       " 'pove',\n",
       " 'qove',\n",
       " 'rove',\n",
       " 'sove',\n",
       " 'tove',\n",
       " 'uove',\n",
       " 'vove',\n",
       " 'wove',\n",
       " 'xove',\n",
       " 'yove',\n",
       " 'zove',\n",
       " 'oave',\n",
       " 'obve',\n",
       " 'ocve',\n",
       " 'odve',\n",
       " 'oeve',\n",
       " 'ofve',\n",
       " 'ogve',\n",
       " 'ohve',\n",
       " 'oive',\n",
       " 'ojve',\n",
       " 'okve',\n",
       " 'olve',\n",
       " 'omve',\n",
       " 'onve',\n",
       " 'oove',\n",
       " 'opve',\n",
       " 'oqve',\n",
       " 'orve',\n",
       " 'osve',\n",
       " 'otve',\n",
       " 'ouve',\n",
       " 'ovve',\n",
       " 'owve',\n",
       " 'oxve',\n",
       " 'oyve',\n",
       " 'ozve',\n",
       " 'ovae',\n",
       " 'ovbe',\n",
       " 'ovce',\n",
       " 'ovde',\n",
       " 'ovee',\n",
       " 'ovfe',\n",
       " 'ovge',\n",
       " 'ovhe',\n",
       " 'ovie',\n",
       " 'ovje',\n",
       " 'ovke',\n",
       " 'ovle',\n",
       " 'ovme',\n",
       " 'ovne',\n",
       " 'ovoe',\n",
       " 'ovpe',\n",
       " 'ovqe',\n",
       " 'ovre',\n",
       " 'ovse',\n",
       " 'ovte',\n",
       " 'ovue',\n",
       " 'ovve',\n",
       " 'ovwe',\n",
       " 'ovxe',\n",
       " 'ovye',\n",
       " 'ovze',\n",
       " 'ovea',\n",
       " 'oveb',\n",
       " 'ovec',\n",
       " 'oved',\n",
       " 'ovee',\n",
       " 'ovef',\n",
       " 'oveg',\n",
       " 'oveh',\n",
       " 'ovei',\n",
       " 'ovej',\n",
       " 'ovek',\n",
       " 'ovel',\n",
       " 'ovem',\n",
       " 'oven',\n",
       " 'oveo',\n",
       " 'ovep',\n",
       " 'oveq',\n",
       " 'over',\n",
       " 'oves',\n",
       " 'ovet',\n",
       " 'oveu',\n",
       " 'ovev',\n",
       " 'ovew',\n",
       " 'ovex',\n",
       " 'ovey',\n",
       " 'ovez']"
      ]
     },
     "execution_count": 13,
     "metadata": {},
     "output_type": "execute_result"
    }
   ],
   "source": [
    "def insert(word):\n",
    "    ab='abcdefghijklmnopqrstuvwxyz'\n",
    "    inserted=[]\n",
    "    for l,r in split(word):\n",
    "        for char in ab:\n",
    "            inserted.append(l+char+r)\n",
    "    return inserted\n",
    "insert('ove')"
   ]
  },
  {
   "cell_type": "markdown",
   "id": "2b1843e6",
   "metadata": {},
   "source": [
    "# Finding the prediction"
   ]
  },
  {
   "cell_type": "markdown",
   "id": "9f4f6896",
   "metadata": {},
   "source": [
    "## Getting Possible combinations of a word"
   ]
  },
  {
   "cell_type": "code",
   "execution_count": 14,
   "id": "7b2e4281",
   "metadata": {},
   "outputs": [],
   "source": [
    "def edit(word):\n",
    "    return (delete(word)+swap(word)+replace(word)+insert(word))\n",
    "\n",
    "suggested_word=edit('cresh')"
   ]
  },
  {
   "cell_type": "code",
   "execution_count": 15,
   "id": "bd01b17e",
   "metadata": {},
   "outputs": [
    {
     "data": {
      "text/plain": [
       "[['fresh', 0.00017911685961009087],\n",
       " ['crash', 1.885440627474641e-05],\n",
       " ['crest', 9.427203137373204e-06]]"
      ]
     },
     "execution_count": 15,
     "metadata": {},
     "output_type": "execute_result"
    }
   ],
   "source": [
    "output=[]\n",
    "for wrd in suggested_word:\n",
    "    if(wrd in word_prob.keys()):\n",
    "        output.append([wrd,word_prob[wrd]])\n",
    "        \n",
    "output"
   ]
  },
  {
   "cell_type": "code",
   "execution_count": 16,
   "id": "7fd50241",
   "metadata": {},
   "outputs": [
    {
     "data": {
      "text/html": [
       "<div>\n",
       "<style scoped>\n",
       "    .dataframe tbody tr th:only-of-type {\n",
       "        vertical-align: middle;\n",
       "    }\n",
       "\n",
       "    .dataframe tbody tr th {\n",
       "        vertical-align: top;\n",
       "    }\n",
       "\n",
       "    .dataframe thead th {\n",
       "        text-align: right;\n",
       "    }\n",
       "</style>\n",
       "<table border=\"1\" class=\"dataframe\">\n",
       "  <thead>\n",
       "    <tr style=\"text-align: right;\">\n",
       "      <th></th>\n",
       "      <th>Word</th>\n",
       "      <th>Confidence</th>\n",
       "    </tr>\n",
       "  </thead>\n",
       "  <tbody>\n",
       "    <tr>\n",
       "      <th>0</th>\n",
       "      <td>fresh</td>\n",
       "      <td>0.000179</td>\n",
       "    </tr>\n",
       "    <tr>\n",
       "      <th>1</th>\n",
       "      <td>crash</td>\n",
       "      <td>0.000019</td>\n",
       "    </tr>\n",
       "    <tr>\n",
       "      <th>2</th>\n",
       "      <td>crest</td>\n",
       "      <td>0.000009</td>\n",
       "    </tr>\n",
       "  </tbody>\n",
       "</table>\n",
       "</div>"
      ],
      "text/plain": [
       "    Word  Confidence\n",
       "0  fresh    0.000179\n",
       "1  crash    0.000019\n",
       "2  crest    0.000009"
      ]
     },
     "execution_count": 16,
     "metadata": {},
     "output_type": "execute_result"
    }
   ],
   "source": [
    "pd.DataFrame(output,columns=['Word','Confidence']).sort_values(by='Confidence',ascending=False)"
   ]
  },
  {
   "cell_type": "markdown",
   "id": "eb43521b",
   "metadata": {},
   "source": [
    "# Spell Checker LEVEL-1"
   ]
  },
  {
   "cell_type": "code",
   "execution_count": 17,
   "id": "ee6b665a",
   "metadata": {},
   "outputs": [],
   "source": [
    "def spell_checker(word):\n",
    "    suggested_word=edit(word)\n",
    "    output=[]\n",
    "    for wrd in suggested_word:\n",
    "        if(wrd in word_prob.keys()):\n",
    "            output.append([wrd,word_prob[wrd]])\n",
    "    return pd.DataFrame(output,columns=['Word','Prob']).sort_values(by='Prob',ascending=False)\n",
    "    "
   ]
  },
  {
   "cell_type": "code",
   "execution_count": 18,
   "id": "f8032479",
   "metadata": {},
   "outputs": [
    {
     "data": {
      "text/html": [
       "<div>\n",
       "<style scoped>\n",
       "    .dataframe tbody tr th:only-of-type {\n",
       "        vertical-align: middle;\n",
       "    }\n",
       "\n",
       "    .dataframe tbody tr th {\n",
       "        vertical-align: top;\n",
       "    }\n",
       "\n",
       "    .dataframe thead th {\n",
       "        text-align: right;\n",
       "    }\n",
       "</style>\n",
       "<table border=\"1\" class=\"dataframe\">\n",
       "  <thead>\n",
       "    <tr style=\"text-align: right;\">\n",
       "      <th></th>\n",
       "      <th>Word</th>\n",
       "      <th>Prob</th>\n",
       "    </tr>\n",
       "  </thead>\n",
       "  <tbody>\n",
       "    <tr>\n",
       "      <th>1</th>\n",
       "      <td>open</td>\n",
       "      <td>0.000603</td>\n",
       "    </tr>\n",
       "    <tr>\n",
       "      <th>0</th>\n",
       "      <td>span</td>\n",
       "      <td>0.000009</td>\n",
       "    </tr>\n",
       "    <tr>\n",
       "      <th>2</th>\n",
       "      <td>opal</td>\n",
       "      <td>0.000009</td>\n",
       "    </tr>\n",
       "  </tbody>\n",
       "</table>\n",
       "</div>"
      ],
      "text/plain": [
       "   Word      Prob\n",
       "1  open  0.000603\n",
       "0  span  0.000009\n",
       "2  opal  0.000009"
      ]
     },
     "execution_count": 18,
     "metadata": {},
     "output_type": "execute_result"
    }
   ],
   "source": [
    "spell_checker('opan')"
   ]
  },
  {
   "cell_type": "markdown",
   "id": "5c766eba",
   "metadata": {},
   "source": [
    "# Spell Checker LEVEL-2"
   ]
  },
  {
   "cell_type": "code",
   "execution_count": 26,
   "id": "f23b9f63",
   "metadata": {},
   "outputs": [],
   "source": [
    "def edit2(word):\n",
    "    output=[]\n",
    "    \n",
    "    suggested_words=edit(word)\n",
    "    for i in edit(word):\n",
    "        suggested_words += edit(i)\n",
    "    suggested_words=list(set(suggested_words))\n",
    "    \n",
    "    for wrd in suggested_words:\n",
    "        if(wrd in word_prob.keys()):\n",
    "            output.append([wrd,word_prob[wrd]])\n",
    "    return pd.DataFrame(output,columns=['Word','Prob']).sort_values(by='Prob',ascending=False)"
   ]
  },
  {
   "cell_type": "code",
   "execution_count": 27,
   "id": "37d80dbb",
   "metadata": {},
   "outputs": [
    {
     "data": {
      "text/html": [
       "<div>\n",
       "<style scoped>\n",
       "    .dataframe tbody tr th:only-of-type {\n",
       "        vertical-align: middle;\n",
       "    }\n",
       "\n",
       "    .dataframe tbody tr th {\n",
       "        vertical-align: top;\n",
       "    }\n",
       "\n",
       "    .dataframe thead th {\n",
       "        text-align: right;\n",
       "    }\n",
       "</style>\n",
       "<table border=\"1\" class=\"dataframe\">\n",
       "  <thead>\n",
       "    <tr style=\"text-align: right;\">\n",
       "      <th></th>\n",
       "      <th>Word</th>\n",
       "      <th>Prob</th>\n",
       "    </tr>\n",
       "  </thead>\n",
       "  <tbody>\n",
       "    <tr>\n",
       "      <th>7</th>\n",
       "      <td>tell</td>\n",
       "      <td>0.000867</td>\n",
       "    </tr>\n",
       "    <tr>\n",
       "      <th>17</th>\n",
       "      <td>these</td>\n",
       "      <td>0.000660</td>\n",
       "    </tr>\n",
       "    <tr>\n",
       "      <th>19</th>\n",
       "      <td>less</td>\n",
       "      <td>0.000358</td>\n",
       "    </tr>\n",
       "    <tr>\n",
       "      <th>0</th>\n",
       "      <td>best</td>\n",
       "      <td>0.000292</td>\n",
       "    </tr>\n",
       "    <tr>\n",
       "      <th>3</th>\n",
       "      <td>ten</td>\n",
       "      <td>0.000264</td>\n",
       "    </tr>\n",
       "    <tr>\n",
       "      <th>11</th>\n",
       "      <td>yes</td>\n",
       "      <td>0.000226</td>\n",
       "    </tr>\n",
       "    <tr>\n",
       "      <th>12</th>\n",
       "      <td>rest</td>\n",
       "      <td>0.000179</td>\n",
       "    </tr>\n",
       "    <tr>\n",
       "      <th>27</th>\n",
       "      <td>west</td>\n",
       "      <td>0.000094</td>\n",
       "    </tr>\n",
       "    <tr>\n",
       "      <th>18</th>\n",
       "      <td>test</td>\n",
       "      <td>0.000057</td>\n",
       "    </tr>\n",
       "    <tr>\n",
       "      <th>20</th>\n",
       "      <td>task</td>\n",
       "      <td>0.000057</td>\n",
       "    </tr>\n",
       "    <tr>\n",
       "      <th>22</th>\n",
       "      <td>text</td>\n",
       "      <td>0.000057</td>\n",
       "    </tr>\n",
       "    <tr>\n",
       "      <th>25</th>\n",
       "      <td>sea</td>\n",
       "      <td>0.000038</td>\n",
       "    </tr>\n",
       "    <tr>\n",
       "      <th>13</th>\n",
       "      <td>desk</td>\n",
       "      <td>0.000038</td>\n",
       "    </tr>\n",
       "    <tr>\n",
       "      <th>10</th>\n",
       "      <td>tea</td>\n",
       "      <td>0.000028</td>\n",
       "    </tr>\n",
       "    <tr>\n",
       "      <th>15</th>\n",
       "      <td>lest</td>\n",
       "      <td>0.000028</td>\n",
       "    </tr>\n",
       "    <tr>\n",
       "      <th>21</th>\n",
       "      <td>pea</td>\n",
       "      <td>0.000028</td>\n",
       "    </tr>\n",
       "    <tr>\n",
       "      <th>26</th>\n",
       "      <td>est</td>\n",
       "      <td>0.000019</td>\n",
       "    </tr>\n",
       "    <tr>\n",
       "      <th>24</th>\n",
       "      <td>tear</td>\n",
       "      <td>0.000019</td>\n",
       "    </tr>\n",
       "    <tr>\n",
       "      <th>8</th>\n",
       "      <td>tend</td>\n",
       "      <td>0.000019</td>\n",
       "    </tr>\n",
       "    <tr>\n",
       "      <th>1</th>\n",
       "      <td>jest</td>\n",
       "      <td>0.000019</td>\n",
       "    </tr>\n",
       "    <tr>\n",
       "      <th>2</th>\n",
       "      <td>nest</td>\n",
       "      <td>0.000009</td>\n",
       "    </tr>\n",
       "    <tr>\n",
       "      <th>9</th>\n",
       "      <td>zest</td>\n",
       "      <td>0.000009</td>\n",
       "    </tr>\n",
       "    <tr>\n",
       "      <th>4</th>\n",
       "      <td>fess</td>\n",
       "      <td>0.000009</td>\n",
       "    </tr>\n",
       "    <tr>\n",
       "      <th>16</th>\n",
       "      <td>tense</td>\n",
       "      <td>0.000009</td>\n",
       "    </tr>\n",
       "    <tr>\n",
       "      <th>23</th>\n",
       "      <td>term</td>\n",
       "      <td>0.000009</td>\n",
       "    </tr>\n",
       "    <tr>\n",
       "      <th>5</th>\n",
       "      <td>es</td>\n",
       "      <td>0.000009</td>\n",
       "    </tr>\n",
       "    <tr>\n",
       "      <th>6</th>\n",
       "      <td>tears</td>\n",
       "      <td>0.000009</td>\n",
       "    </tr>\n",
       "    <tr>\n",
       "      <th>14</th>\n",
       "      <td>mess</td>\n",
       "      <td>0.000009</td>\n",
       "    </tr>\n",
       "  </tbody>\n",
       "</table>\n",
       "</div>"
      ],
      "text/plain": [
       "     Word      Prob\n",
       "7    tell  0.000867\n",
       "17  these  0.000660\n",
       "19   less  0.000358\n",
       "0    best  0.000292\n",
       "3     ten  0.000264\n",
       "11    yes  0.000226\n",
       "12   rest  0.000179\n",
       "27   west  0.000094\n",
       "18   test  0.000057\n",
       "20   task  0.000057\n",
       "22   text  0.000057\n",
       "25    sea  0.000038\n",
       "13   desk  0.000038\n",
       "10    tea  0.000028\n",
       "15   lest  0.000028\n",
       "21    pea  0.000028\n",
       "26    est  0.000019\n",
       "24   tear  0.000019\n",
       "8    tend  0.000019\n",
       "1    jest  0.000019\n",
       "2    nest  0.000009\n",
       "9    zest  0.000009\n",
       "4    fess  0.000009\n",
       "16  tense  0.000009\n",
       "23   term  0.000009\n",
       "5      es  0.000009\n",
       "6   tears  0.000009\n",
       "14   mess  0.000009"
      ]
     },
     "execution_count": 27,
     "metadata": {},
     "output_type": "execute_result"
    }
   ],
   "source": [
    "edit2('tesa')"
   ]
  },
  {
   "cell_type": "code",
   "execution_count": null,
   "id": "f6aab186",
   "metadata": {},
   "outputs": [],
   "source": []
  }
 ],
 "metadata": {
  "kernelspec": {
   "display_name": "Python 3 (ipykernel)",
   "language": "python",
   "name": "python3"
  },
  "language_info": {
   "codemirror_mode": {
    "name": "ipython",
    "version": 3
   },
   "file_extension": ".py",
   "mimetype": "text/x-python",
   "name": "python",
   "nbconvert_exporter": "python",
   "pygments_lexer": "ipython3",
   "version": "3.10.0"
  }
 },
 "nbformat": 4,
 "nbformat_minor": 5
}
